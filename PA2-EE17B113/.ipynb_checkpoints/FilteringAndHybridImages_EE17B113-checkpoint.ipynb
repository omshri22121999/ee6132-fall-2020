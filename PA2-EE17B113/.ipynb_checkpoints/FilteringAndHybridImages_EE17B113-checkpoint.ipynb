{
 "cells": [
  {
   "cell_type": "markdown",
   "metadata": {},
   "source": [
    "# Filtering and Hybrid Images\n",
    "\n",
    "### Om Shri Prasath EE17B113"
   ]
  },
  {
   "cell_type": "markdown",
   "metadata": {},
   "source": [
    "## Importing the required libraries\n",
    "\n",
    "- Numpy - For matrix manipulations (mainly used in Non-Max Supression and Calculating Magnitude and Angle)\n",
    "- Scipy - For generating Gaussian Kernel and Convolutions\n",
    "- Matplotlib - For displaying image\n",
    "- OpenCV - For reading images from source"
   ]
  },
  {
   "cell_type": "code",
   "execution_count": 1,
   "metadata": {},
   "outputs": [
    {
     "data": {
      "application/javascript": [
       "\n",
       "            setTimeout(function() {\n",
       "                var nbb_cell_id = 1;\n",
       "                var nbb_unformatted_code = \"# Importing the required libraries\\n\\nimport numpy as np\\nimport scipy.stats as st\\nimport scipy.signal as sg\\nimport matplotlib.pyplot as plt\\nimport cv2\\n\\n# To remove unnecessary warnings\\nimport warnings\\n\\nwarnings.filterwarnings(\\\"ignore\\\")\\n\\n# Note : Used for autoformatting the notebook, remove if causing any error\\n%load_ext nb_black\";\n",
       "                var nbb_formatted_code = \"# Importing the required libraries\\n\\nimport numpy as np\\nimport scipy.stats as st\\nimport scipy.signal as sg\\nimport matplotlib.pyplot as plt\\nimport cv2\\n\\n# To remove unnecessary warnings\\nimport warnings\\n\\nwarnings.filterwarnings(\\\"ignore\\\")\\n\\n# Note : Used for autoformatting the notebook, remove if causing any error\\n%load_ext nb_black\";\n",
       "                var nbb_cells = Jupyter.notebook.get_cells();\n",
       "                for (var i = 0; i < nbb_cells.length; ++i) {\n",
       "                    if (nbb_cells[i].input_prompt_number == nbb_cell_id) {\n",
       "                        if (nbb_cells[i].get_text() == nbb_unformatted_code) {\n",
       "                             nbb_cells[i].set_text(nbb_formatted_code);\n",
       "                        }\n",
       "                        break;\n",
       "                    }\n",
       "                }\n",
       "            }, 500);\n",
       "            "
      ],
      "text/plain": [
       "<IPython.core.display.Javascript object>"
      ]
     },
     "metadata": {},
     "output_type": "display_data"
    }
   ],
   "source": [
    "# Importing the required libraries\n",
    "\n",
    "import numpy as np\n",
    "import scipy.stats as st\n",
    "import scipy.signal as sg\n",
    "import matplotlib.pyplot as plt\n",
    "import cv2\n",
    "\n",
    "# To remove unnecessary warnings\n",
    "import warnings\n",
    "\n",
    "warnings.filterwarnings(\"ignore\")\n",
    "\n",
    "# Note : Used for autoformatting the notebook, remove if causing any error\n",
    "%load_ext nb_black"
   ]
  },
  {
   "cell_type": "code",
   "execution_count": 2,
   "metadata": {},
   "outputs": [
    {
     "data": {
      "application/javascript": [
       "\n",
       "            setTimeout(function() {\n",
       "                var nbb_cell_id = 2;\n",
       "                var nbb_unformatted_code = \"# Parameters for good matplotlib output\\n\\nplt.rcParams[\\\"figure.autolayout\\\"] = False\\nplt.rcParams[\\\"figure.figsize\\\"] = 9, 6\\nplt.rcParams[\\\"axes.labelsize\\\"] = 18\\nplt.rcParams[\\\"axes.titlesize\\\"] = 20\\nplt.rcParams[\\\"font.size\\\"] = 16\\nplt.rcParams[\\\"lines.linewidth\\\"] = 2.0\\nplt.rcParams[\\\"lines.markersize\\\"] = 6\\nplt.rcParams[\\\"legend.fontsize\\\"] = 18\\nplt.rcParams[\\\"legend.numpoints\\\"] = 2\\nplt.rcParams[\\\"legend.loc\\\"] = \\\"best\\\"\\nplt.rcParams[\\\"legend.fancybox\\\"] = True\\nplt.rcParams[\\\"legend.shadow\\\"] = True\\nplt.rcParams[\\\"text.usetex\\\"] = True\\nplt.rcParams[\\\"font.family\\\"] = \\\"serif\\\"\\nplt.rcParams[\\\"font.serif\\\"] = \\\"cm\\\"\\nplt.rcParams[\\\"text.latex.preamble\\\"] = [r\\\"\\\\usepackage{amsmath}\\\", r\\\"\\\\usepackage{amssymb}\\\"]\";\n",
       "                var nbb_formatted_code = \"# Parameters for good matplotlib output\\n\\nplt.rcParams[\\\"figure.autolayout\\\"] = False\\nplt.rcParams[\\\"figure.figsize\\\"] = 9, 6\\nplt.rcParams[\\\"axes.labelsize\\\"] = 18\\nplt.rcParams[\\\"axes.titlesize\\\"] = 20\\nplt.rcParams[\\\"font.size\\\"] = 16\\nplt.rcParams[\\\"lines.linewidth\\\"] = 2.0\\nplt.rcParams[\\\"lines.markersize\\\"] = 6\\nplt.rcParams[\\\"legend.fontsize\\\"] = 18\\nplt.rcParams[\\\"legend.numpoints\\\"] = 2\\nplt.rcParams[\\\"legend.loc\\\"] = \\\"best\\\"\\nplt.rcParams[\\\"legend.fancybox\\\"] = True\\nplt.rcParams[\\\"legend.shadow\\\"] = True\\nplt.rcParams[\\\"text.usetex\\\"] = True\\nplt.rcParams[\\\"font.family\\\"] = \\\"serif\\\"\\nplt.rcParams[\\\"font.serif\\\"] = \\\"cm\\\"\\nplt.rcParams[\\\"text.latex.preamble\\\"] = [r\\\"\\\\usepackage{amsmath}\\\", r\\\"\\\\usepackage{amssymb}\\\"]\";\n",
       "                var nbb_cells = Jupyter.notebook.get_cells();\n",
       "                for (var i = 0; i < nbb_cells.length; ++i) {\n",
       "                    if (nbb_cells[i].input_prompt_number == nbb_cell_id) {\n",
       "                        if (nbb_cells[i].get_text() == nbb_unformatted_code) {\n",
       "                             nbb_cells[i].set_text(nbb_formatted_code);\n",
       "                        }\n",
       "                        break;\n",
       "                    }\n",
       "                }\n",
       "            }, 500);\n",
       "            "
      ],
      "text/plain": [
       "<IPython.core.display.Javascript object>"
      ]
     },
     "metadata": {},
     "output_type": "display_data"
    }
   ],
   "source": [
    "# Parameters for good matplotlib output\n",
    "\n",
    "plt.rcParams[\"figure.autolayout\"] = False\n",
    "plt.rcParams[\"figure.figsize\"] = 9, 6\n",
    "plt.rcParams[\"axes.labelsize\"] = 18\n",
    "plt.rcParams[\"axes.titlesize\"] = 20\n",
    "plt.rcParams[\"font.size\"] = 16\n",
    "plt.rcParams[\"lines.linewidth\"] = 2.0\n",
    "plt.rcParams[\"lines.markersize\"] = 6\n",
    "plt.rcParams[\"legend.fontsize\"] = 18\n",
    "plt.rcParams[\"legend.numpoints\"] = 2\n",
    "plt.rcParams[\"legend.loc\"] = \"best\"\n",
    "plt.rcParams[\"legend.fancybox\"] = True\n",
    "plt.rcParams[\"legend.shadow\"] = True\n",
    "plt.rcParams[\"text.usetex\"] = True\n",
    "plt.rcParams[\"font.family\"] = \"serif\"\n",
    "plt.rcParams[\"font.serif\"] = \"cm\"\n",
    "plt.rcParams[\"text.latex.preamble\"] = [r\"\\usepackage{amsmath}\", r\"\\usepackage{amssymb}\"]"
   ]
  },
  {
   "cell_type": "markdown",
   "metadata": {},
   "source": [
    "## Filtering on 1-D Array"
   ]
  },
  {
   "cell_type": "markdown",
   "metadata": {},
   "source": [
    "Creating the signal generator using numpy"
   ]
  },
  {
   "cell_type": "code",
   "execution_count": 3,
   "metadata": {},
   "outputs": [
    {
     "data": {
      "application/javascript": [
       "\n",
       "            setTimeout(function() {\n",
       "                var nbb_cell_id = 3;\n",
       "                var nbb_unformatted_code = \"# Function to generate signal X given range k\\ndef x(k):\\n    x = np.zeros(k.shape)\\n    x[(k > -1) & (k < 16)] = 3 + np.sin(2 * k[(k > -1) & (k < 16)] * np.pi / 15)\\n    return x\";\n",
       "                var nbb_formatted_code = \"# Function to generate signal X given range k\\ndef x(k):\\n    x = np.zeros(k.shape)\\n    x[(k > -1) & (k < 16)] = 3 + np.sin(2 * k[(k > -1) & (k < 16)] * np.pi / 15)\\n    return x\";\n",
       "                var nbb_cells = Jupyter.notebook.get_cells();\n",
       "                for (var i = 0; i < nbb_cells.length; ++i) {\n",
       "                    if (nbb_cells[i].input_prompt_number == nbb_cell_id) {\n",
       "                        if (nbb_cells[i].get_text() == nbb_unformatted_code) {\n",
       "                             nbb_cells[i].set_text(nbb_formatted_code);\n",
       "                        }\n",
       "                        break;\n",
       "                    }\n",
       "                }\n",
       "            }, 500);\n",
       "            "
      ],
      "text/plain": [
       "<IPython.core.display.Javascript object>"
      ]
     },
     "metadata": {},
     "output_type": "display_data"
    }
   ],
   "source": [
    "# Function to generate signal X given range k\n",
    "def x(k):\n",
    "    x = np.zeros(k.shape)\n",
    "    x[(k > -1) & (k < 16)] = 3 + np.sin(2 * k[(k > -1) & (k < 16)] * np.pi / 15)\n",
    "    return x"
   ]
  },
  {
   "cell_type": "markdown",
   "metadata": {},
   "source": [
    "Plotting the signal"
   ]
  },
  {
   "cell_type": "code",
   "execution_count": 4,
   "metadata": {},
   "outputs": [
    {
     "data": {
      "image/png": "[encoded data removed]",
      "text/plain": [
       "<Figure size 648x432 with 1 Axes>"
      ]
     },
     "metadata": {
      "needs_background": "light"
     },
     "output_type": "display_data"
    },
    {
     "data": {
      "application/javascript": [
       "\n",
       "            setTimeout(function() {\n",
       "                var nbb_cell_id = 4;\n",
       "                var nbb_unformatted_code = \"# Creating the signal range\\nk = np.arange(0, 16)\\n\\n# Generating the signal and plotting it\\n\\nplt.title(r\\\"Input Signal $x_k$\\\")\\nplt.plot(k, x(k), \\\"bo\\\")\\nplt.xlabel(\\\"k\\\")\\nplt.ylabel(\\\"x\\\")\\nplt.show()\";\n",
       "                var nbb_formatted_code = \"# Creating the signal range\\nk = np.arange(0, 16)\\n\\n# Generating the signal and plotting it\\n\\nplt.title(r\\\"Input Signal $x_k$\\\")\\nplt.plot(k, x(k), \\\"bo\\\")\\nplt.xlabel(\\\"k\\\")\\nplt.ylabel(\\\"x\\\")\\nplt.show()\";\n",
       "                var nbb_cells = Jupyter.notebook.get_cells();\n",
       "                for (var i = 0; i < nbb_cells.length; ++i) {\n",
       "                    if (nbb_cells[i].input_prompt_number == nbb_cell_id) {\n",
       "                        if (nbb_cells[i].get_text() == nbb_unformatted_code) {\n",
       "                             nbb_cells[i].set_text(nbb_formatted_code);\n",
       "                        }\n",
       "                        break;\n",
       "                    }\n",
       "                }\n",
       "            }, 500);\n",
       "            "
      ],
      "text/plain": [
       "<IPython.core.display.Javascript object>"
      ]
     },
     "metadata": {},
     "output_type": "display_data"
    }
   ],
   "source": [
    "# Creating the signal range\n",
    "k = np.arange(0, 16)\n",
    "\n",
    "# Generating the signal and plotting it\n",
    "\n",
    "plt.title(r\"Input Signal $x_k$\")\n",
    "plt.plot(k, x(k), \"bo\")\n",
    "plt.xlabel(\"k\")\n",
    "plt.ylabel(\"x\")\n",
    "plt.show()"
   ]
  },
  {
   "cell_type": "markdown",
   "metadata": {},
   "source": [
    "#### Creating filter 1 : $y_k = x_{k+1}-x_k$"
   ]
  },
  {
   "cell_type": "code",
   "execution_count": 5,
   "metadata": {},
   "outputs": [
    {
     "data": {
      "application/javascript": [
       "\n",
       "            setTimeout(function() {\n",
       "                var nbb_cell_id = 5;\n",
       "                var nbb_unformatted_code = \"def y_1(k):\\n    return x(k + 1) - x(k)\";\n",
       "                var nbb_formatted_code = \"def y_1(k):\\n    return x(k + 1) - x(k)\";\n",
       "                var nbb_cells = Jupyter.notebook.get_cells();\n",
       "                for (var i = 0; i < nbb_cells.length; ++i) {\n",
       "                    if (nbb_cells[i].input_prompt_number == nbb_cell_id) {\n",
       "                        if (nbb_cells[i].get_text() == nbb_unformatted_code) {\n",
       "                             nbb_cells[i].set_text(nbb_formatted_code);\n",
       "                        }\n",
       "                        break;\n",
       "                    }\n",
       "                }\n",
       "            }, 500);\n",
       "            "
      ],
      "text/plain": [
       "<IPython.core.display.Javascript object>"
      ]
     },
     "metadata": {},
     "output_type": "display_data"
    }
   ],
   "source": [
    "def y_1(k):\n",
    "    return x(k + 1) - x(k)"
   ]
  },
  {
   "cell_type": "code",
   "execution_count": 6,
   "metadata": {
    "scrolled": false
   },
   "outputs": [
    {
     "data": {
      "image/png": "[encoded data removed]",
      "text/plain": [
       "<Figure size 648x432 with 1 Axes>"
      ]
     },
     "metadata": {
      "needs_background": "light"
     },
     "output_type": "display_data"
    },
    {
     "data": {
      "application/javascript": [
       "\n",
       "            setTimeout(function() {\n",
       "                var nbb_cell_id = 6;\n",
       "                var nbb_unformatted_code = \"plt.title(r\\\"Filtered Signal $y_k = x_{k+1}-x_k$\\\")\\nplt.plot(k, y_1(k), \\\"bo\\\")\\nplt.xlabel(\\\"k\\\")\\nplt.ylabel(\\\"y\\\")\\nplt.show()\";\n",
       "                var nbb_formatted_code = \"plt.title(r\\\"Filtered Signal $y_k = x_{k+1}-x_k$\\\")\\nplt.plot(k, y_1(k), \\\"bo\\\")\\nplt.xlabel(\\\"k\\\")\\nplt.ylabel(\\\"y\\\")\\nplt.show()\";\n",
       "                var nbb_cells = Jupyter.notebook.get_cells();\n",
       "                for (var i = 0; i < nbb_cells.length; ++i) {\n",
       "                    if (nbb_cells[i].input_prompt_number == nbb_cell_id) {\n",
       "                        if (nbb_cells[i].get_text() == nbb_unformatted_code) {\n",
       "                             nbb_cells[i].set_text(nbb_formatted_code);\n",
       "                        }\n",
       "                        break;\n",
       "                    }\n",
       "                }\n",
       "            }, 500);\n",
       "            "
      ],
      "text/plain": [
       "<IPython.core.display.Javascript object>"
      ]
     },
     "metadata": {},
     "output_type": "display_data"
    }
   ],
   "source": [
    "plt.title(r\"Filtered Signal $y_k = x_{k+1}-x_k$\")\n",
    "plt.plot(k, y_1(k), \"bo\")\n",
    "plt.xlabel(\"k\")\n",
    "plt.ylabel(\"y\")\n",
    "plt.show()"
   ]
  },
  {
   "cell_type": "markdown",
   "metadata": {},
   "source": [
    "#### Creating filter 2 : $y_k = x_{k}-\\bar{X}$ where $\\bar{X} = \\dfrac{1}{L+1}\\sum\\limits_{i=0}^{L}x_i$"
   ]
  },
  {
   "cell_type": "code",
   "execution_count": 7,
   "metadata": {},
   "outputs": [
    {
     "data": {
      "application/javascript": [
       "\n",
       "            setTimeout(function() {\n",
       "                var nbb_cell_id = 7;\n",
       "                var nbb_unformatted_code = \"def y_2(k):\\n    return x(k) - np.average(x(k))\";\n",
       "                var nbb_formatted_code = \"def y_2(k):\\n    return x(k) - np.average(x(k))\";\n",
       "                var nbb_cells = Jupyter.notebook.get_cells();\n",
       "                for (var i = 0; i < nbb_cells.length; ++i) {\n",
       "                    if (nbb_cells[i].input_prompt_number == nbb_cell_id) {\n",
       "                        if (nbb_cells[i].get_text() == nbb_unformatted_code) {\n",
       "                             nbb_cells[i].set_text(nbb_formatted_code);\n",
       "                        }\n",
       "                        break;\n",
       "                    }\n",
       "                }\n",
       "            }, 500);\n",
       "            "
      ],
      "text/plain": [
       "<IPython.core.display.Javascript object>"
      ]
     },
     "metadata": {},
     "output_type": "display_data"
    }
   ],
   "source": [
    "def y_2(k):\n",
    "    return x(k) - np.average(x(k))"
   ]
  },
  {
   "cell_type": "code",
   "execution_count": 8,
   "metadata": {
    "scrolled": false
   },
   "outputs": [
    {
     "data": {
      "image/png": "[encoded data removed]",
      "text/plain": [
       "<Figure size 648x432 with 1 Axes>"
      ]
     },
     "metadata": {
      "needs_background": "light"
     },
     "output_type": "display_data"
    },
    {
     "data": {
      "application/javascript": [
       "\n",
       "            setTimeout(function() {\n",
       "                var nbb_cell_id = 8;\n",
       "                var nbb_unformatted_code = \"plt.title(r\\\"Filtered Signal $y_k = x_{k}-\\\\bar{X}$\\\")\\nplt.plot(k, y_2(k), \\\"bo\\\")\\nplt.xlabel(\\\"k\\\")\\nplt.ylabel(\\\"y\\\")\\nplt.show()\";\n",
       "                var nbb_formatted_code = \"plt.title(r\\\"Filtered Signal $y_k = x_{k}-\\\\bar{X}$\\\")\\nplt.plot(k, y_2(k), \\\"bo\\\")\\nplt.xlabel(\\\"k\\\")\\nplt.ylabel(\\\"y\\\")\\nplt.show()\";\n",
       "                var nbb_cells = Jupyter.notebook.get_cells();\n",
       "                for (var i = 0; i < nbb_cells.length; ++i) {\n",
       "                    if (nbb_cells[i].input_prompt_number == nbb_cell_id) {\n",
       "                        if (nbb_cells[i].get_text() == nbb_unformatted_code) {\n",
       "                             nbb_cells[i].set_text(nbb_formatted_code);\n",
       "                        }\n",
       "                        break;\n",
       "                    }\n",
       "                }\n",
       "            }, 500);\n",
       "            "
      ],
      "text/plain": [
       "<IPython.core.display.Javascript object>"
      ]
     },
     "metadata": {},
     "output_type": "display_data"
    }
   ],
   "source": [
    "plt.title(r\"Filtered Signal $y_k = x_{k}-\\bar{X}$\")\n",
    "plt.plot(k, y_2(k), \"bo\")\n",
    "plt.xlabel(\"k\")\n",
    "plt.ylabel(\"y\")\n",
    "plt.show()"
   ]
  },
  {
   "cell_type": "markdown",
   "metadata": {},
   "source": [
    "#### Creating filter 3 : $y_k = median(\\{x_l : l \\in [k-2,k+2]\\})$"
   ]
  },
  {
   "cell_type": "code",
   "execution_count": 9,
   "metadata": {},
   "outputs": [
    {
     "data": {
      "application/javascript": [
       "\n",
       "            setTimeout(function() {\n",
       "                var nbb_cell_id = 9;\n",
       "                var nbb_unformatted_code = \"def y_3(k):\\n    return np.array([np.median(x(np.arange(l - 2, l + 3))) for l in k])\";\n",
       "                var nbb_formatted_code = \"def y_3(k):\\n    return np.array([np.median(x(np.arange(l - 2, l + 3))) for l in k])\";\n",
       "                var nbb_cells = Jupyter.notebook.get_cells();\n",
       "                for (var i = 0; i < nbb_cells.length; ++i) {\n",
       "                    if (nbb_cells[i].input_prompt_number == nbb_cell_id) {\n",
       "                        if (nbb_cells[i].get_text() == nbb_unformatted_code) {\n",
       "                             nbb_cells[i].set_text(nbb_formatted_code);\n",
       "                        }\n",
       "                        break;\n",
       "                    }\n",
       "                }\n",
       "            }, 500);\n",
       "            "
      ],
      "text/plain": [
       "<IPython.core.display.Javascript object>"
      ]
     },
     "metadata": {},
     "output_type": "display_data"
    }
   ],
   "source": [
    "def y_3(k):\n",
    "    return np.array([np.median(x(np.arange(l - 2, l + 3))) for l in k])"
   ]
  },
  {
   "cell_type": "code",
   "execution_count": 10,
   "metadata": {
    "scrolled": false
   },
   "outputs": [
    {
     "data": {
      "image/png": "[encoded data removed]",
      "text/plain": [
       "<Figure size 648x432 with 1 Axes>"
      ]
     },
     "metadata": {
      "needs_background": "light"
     },
     "output_type": "display_data"
    },
    {
     "data": {
      "application/javascript": [
       "\n",
       "            setTimeout(function() {\n",
       "                var nbb_cell_id = 10;\n",
       "                var nbb_unformatted_code = \"plt.title(r\\\"Filtered Signal $y_k = median(\\\\{x_l : l \\\\in [k-2,k+2]\\\\})$\\\")\\nplt.plot(k, y_3(k), \\\"bo\\\")\\nplt.xlabel(\\\"k\\\")\\nplt.ylabel(\\\"y\\\")\\nplt.show()\";\n",
       "                var nbb_formatted_code = \"plt.title(r\\\"Filtered Signal $y_k = median(\\\\{x_l : l \\\\in [k-2,k+2]\\\\})$\\\")\\nplt.plot(k, y_3(k), \\\"bo\\\")\\nplt.xlabel(\\\"k\\\")\\nplt.ylabel(\\\"y\\\")\\nplt.show()\";\n",
       "                var nbb_cells = Jupyter.notebook.get_cells();\n",
       "                for (var i = 0; i < nbb_cells.length; ++i) {\n",
       "                    if (nbb_cells[i].input_prompt_number == nbb_cell_id) {\n",
       "                        if (nbb_cells[i].get_text() == nbb_unformatted_code) {\n",
       "                             nbb_cells[i].set_text(nbb_formatted_code);\n",
       "                        }\n",
       "                        break;\n",
       "                    }\n",
       "                }\n",
       "            }, 500);\n",
       "            "
      ],
      "text/plain": [
       "<IPython.core.display.Javascript object>"
      ]
     },
     "metadata": {},
     "output_type": "display_data"
    }
   ],
   "source": [
    "plt.title(r\"Filtered Signal $y_k = median(\\{x_l : l \\in [k-2,k+2]\\})$\")\n",
    "plt.plot(k, y_3(k), \"bo\")\n",
    "plt.xlabel(\"k\")\n",
    "plt.ylabel(\"y\")\n",
    "plt.show()"
   ]
  },
  {
   "cell_type": "markdown",
   "metadata": {},
   "source": [
    "#### Creating filter 4 : $y_k = x_{k+0.5}-x_{k-0.5}$\n",
    "\n",
    "Using linear interpolation : \n",
    "\n",
    "$x_{k+0.5} = x_{k}+\\dfrac{(x_{k+1} - x_{k})}{2} = \\dfrac{x_{k+1}+x_{k}}{2} \\implies$ The values at the middle (0.5) are just the averages of the nearby points.\n",
    "\n",
    "$\\implies y_k = \\dfrac{x_{k}+x_{k+1} - x_{k}-x_{k-1}}{2} = \\dfrac{x_{k+1}-x_{k-1}}{2}$"
   ]
  },
  {
   "cell_type": "code",
   "execution_count": 11,
   "metadata": {},
   "outputs": [
    {
     "data": {
      "application/javascript": [
       "\n",
       "            setTimeout(function() {\n",
       "                var nbb_cell_id = 11;\n",
       "                var nbb_unformatted_code = \"def y_4(k):\\n    return (x(k + 1) - x(k - 1)) / 2\";\n",
       "                var nbb_formatted_code = \"def y_4(k):\\n    return (x(k + 1) - x(k - 1)) / 2\";\n",
       "                var nbb_cells = Jupyter.notebook.get_cells();\n",
       "                for (var i = 0; i < nbb_cells.length; ++i) {\n",
       "                    if (nbb_cells[i].input_prompt_number == nbb_cell_id) {\n",
       "                        if (nbb_cells[i].get_text() == nbb_unformatted_code) {\n",
       "                             nbb_cells[i].set_text(nbb_formatted_code);\n",
       "                        }\n",
       "                        break;\n",
       "                    }\n",
       "                }\n",
       "            }, 500);\n",
       "            "
      ],
      "text/plain": [
       "<IPython.core.display.Javascript object>"
      ]
     },
     "metadata": {},
     "output_type": "display_data"
    }
   ],
   "source": [
    "def y_4(k):\n",
    "    return (x(k + 1) - x(k - 1)) / 2"
   ]
  },
  {
   "cell_type": "code",
   "execution_count": 12,
   "metadata": {
    "scrolled": false
   },
   "outputs": [
    {
     "data": {
      "image/png": "[encoded data removed]",
      "text/plain": [
       "<Figure size 648x432 with 1 Axes>"
      ]
     },
     "metadata": {
      "needs_background": "light"
     },
     "output_type": "display_data"
    },
    {
     "data": {
      "application/javascript": [
       "\n",
       "            setTimeout(function() {\n",
       "                var nbb_cell_id = 12;\n",
       "                var nbb_unformatted_code = \"plt.title(r\\\"Filtered Signal $y_k = x_{k+0.5}-x_{k-0.5}$\\\")\\nplt.plot(k, y_4(k), \\\"bo\\\")\\nplt.xlabel(\\\"k\\\")\\nplt.ylabel(\\\"y\\\")\\nplt.show()\";\n",
       "                var nbb_formatted_code = \"plt.title(r\\\"Filtered Signal $y_k = x_{k+0.5}-x_{k-0.5}$\\\")\\nplt.plot(k, y_4(k), \\\"bo\\\")\\nplt.xlabel(\\\"k\\\")\\nplt.ylabel(\\\"y\\\")\\nplt.show()\";\n",
       "                var nbb_cells = Jupyter.notebook.get_cells();\n",
       "                for (var i = 0; i < nbb_cells.length; ++i) {\n",
       "                    if (nbb_cells[i].input_prompt_number == nbb_cell_id) {\n",
       "                        if (nbb_cells[i].get_text() == nbb_unformatted_code) {\n",
       "                             nbb_cells[i].set_text(nbb_formatted_code);\n",
       "                        }\n",
       "                        break;\n",
       "                    }\n",
       "                }\n",
       "            }, 500);\n",
       "            "
      ],
      "text/plain": [
       "<IPython.core.display.Javascript object>"
      ]
     },
     "metadata": {},
     "output_type": "display_data"
    }
   ],
   "source": [
    "plt.title(r\"Filtered Signal $y_k = x_{k+0.5}-x_{k-0.5}$\")\n",
    "plt.plot(k, y_4(k), \"bo\")\n",
    "plt.xlabel(\"k\")\n",
    "plt.ylabel(\"y\")\n",
    "plt.show()"
   ]
  },
  {
   "cell_type": "markdown",
   "metadata": {},
   "source": [
    "#### Creating filter 5 : $y_k = |x_{k+0.5}-x_{k-0.5}|$\n",
    "\n",
    "(We use the same transform as above)"
   ]
  },
  {
   "cell_type": "code",
   "execution_count": 13,
   "metadata": {},
   "outputs": [
    {
     "data": {
      "application/javascript": [
       "\n",
       "            setTimeout(function() {\n",
       "                var nbb_cell_id = 13;\n",
       "                var nbb_unformatted_code = \"def y_5(k):\\n    return np.abs((x(k + 1) - x(k - 1)) / 2)\";\n",
       "                var nbb_formatted_code = \"def y_5(k):\\n    return np.abs((x(k + 1) - x(k - 1)) / 2)\";\n",
       "                var nbb_cells = Jupyter.notebook.get_cells();\n",
       "                for (var i = 0; i < nbb_cells.length; ++i) {\n",
       "                    if (nbb_cells[i].input_prompt_number == nbb_cell_id) {\n",
       "                        if (nbb_cells[i].get_text() == nbb_unformatted_code) {\n",
       "                             nbb_cells[i].set_text(nbb_formatted_code);\n",
       "                        }\n",
       "                        break;\n",
       "                    }\n",
       "                }\n",
       "            }, 500);\n",
       "            "
      ],
      "text/plain": [
       "<IPython.core.display.Javascript object>"
      ]
     },
     "metadata": {},
     "output_type": "display_data"
    }
   ],
   "source": [
    "def y_5(k):\n",
    "    return np.abs((x(k + 1) - x(k - 1)) / 2)"
   ]
  },
  {
   "cell_type": "code",
   "execution_count": 14,
   "metadata": {},
   "outputs": [
    {
     "data": {
      "image/png": "[encoded data removed]",
      "text/plain": [
       "<Figure size 648x432 with 1 Axes>"
      ]
     },
     "metadata": {
      "needs_background": "light"
     },
     "output_type": "display_data"
    },
    {
     "data": {
      "application/javascript": [
       "\n",
       "            setTimeout(function() {\n",
       "                var nbb_cell_id = 14;\n",
       "                var nbb_unformatted_code = \"plt.title(r\\\"Filtered Signal $y_k = |x_{k+0.5}-x_{k-0.5}|$\\\")\\nplt.plot(k, y_5(k), \\\"bo\\\")\\nplt.xlabel(\\\"k\\\")\\nplt.ylabel(\\\"y\\\")\\nplt.show()\";\n",
       "                var nbb_formatted_code = \"plt.title(r\\\"Filtered Signal $y_k = |x_{k+0.5}-x_{k-0.5}|$\\\")\\nplt.plot(k, y_5(k), \\\"bo\\\")\\nplt.xlabel(\\\"k\\\")\\nplt.ylabel(\\\"y\\\")\\nplt.show()\";\n",
       "                var nbb_cells = Jupyter.notebook.get_cells();\n",
       "                for (var i = 0; i < nbb_cells.length; ++i) {\n",
       "                    if (nbb_cells[i].input_prompt_number == nbb_cell_id) {\n",
       "                        if (nbb_cells[i].get_text() == nbb_unformatted_code) {\n",
       "                             nbb_cells[i].set_text(nbb_formatted_code);\n",
       "                        }\n",
       "                        break;\n",
       "                    }\n",
       "                }\n",
       "            }, 500);\n",
       "            "
      ],
      "text/plain": [
       "<IPython.core.display.Javascript object>"
      ]
     },
     "metadata": {},
     "output_type": "display_data"
    }
   ],
   "source": [
    "plt.title(r\"Filtered Signal $y_k = |x_{k+0.5}-x_{k-0.5}|$\")\n",
    "plt.plot(k, y_5(k), \"bo\")\n",
    "plt.xlabel(\"k\")\n",
    "plt.ylabel(\"y\")\n",
    "plt.show()"
   ]
  },
  {
   "cell_type": "markdown",
   "metadata": {},
   "source": [
    "#### Creating filter 6 : $y_k = \\dfrac{1}{5}\\sum\\limits_{i=k-2}^{k+2} x_i$"
   ]
  },
  {
   "cell_type": "code",
   "execution_count": 15,
   "metadata": {},
   "outputs": [
    {
     "data": {
      "application/javascript": [
       "\n",
       "            setTimeout(function() {\n",
       "                var nbb_cell_id = 15;\n",
       "                var nbb_unformatted_code = \"def y_6(k):\\n    return np.array([np.sum(x(np.arange(l - 2, l + 3))) / 5 for l in k])\";\n",
       "                var nbb_formatted_code = \"def y_6(k):\\n    return np.array([np.sum(x(np.arange(l - 2, l + 3))) / 5 for l in k])\";\n",
       "                var nbb_cells = Jupyter.notebook.get_cells();\n",
       "                for (var i = 0; i < nbb_cells.length; ++i) {\n",
       "                    if (nbb_cells[i].input_prompt_number == nbb_cell_id) {\n",
       "                        if (nbb_cells[i].get_text() == nbb_unformatted_code) {\n",
       "                             nbb_cells[i].set_text(nbb_formatted_code);\n",
       "                        }\n",
       "                        break;\n",
       "                    }\n",
       "                }\n",
       "            }, 500);\n",
       "            "
      ],
      "text/plain": [
       "<IPython.core.display.Javascript object>"
      ]
     },
     "metadata": {},
     "output_type": "display_data"
    }
   ],
   "source": [
    "def y_6(k):\n",
    "    return np.array([np.sum(x(np.arange(l - 2, l + 3))) / 5 for l in k])"
   ]
  },
  {
   "cell_type": "code",
   "execution_count": 16,
   "metadata": {},
   "outputs": [
    {
     "data": {
      "image/png": "[encoded data removed]",
      "text/plain": [
       "<Figure size 648x432 with 1 Axes>"
      ]
     },
     "metadata": {
      "needs_background": "light"
     },
     "output_type": "display_data"
    },
    {
     "data": {
      "application/javascript": [
       "\n",
       "            setTimeout(function() {\n",
       "                var nbb_cell_id = 16;\n",
       "                var nbb_unformatted_code = \"plt.title(r\\\"Filtered Signal $y_k = \\\\dfrac{1}{5}\\\\sum\\\\limits_{i=k-2}^{k+2} x_i$\\\")\\n\\nplt.plot(k, y_6(k), \\\"bo\\\")\\nplt.xlabel(\\\"k\\\")\\nplt.ylabel(\\\"y\\\")\\nplt.show()\";\n",
       "                var nbb_formatted_code = \"plt.title(r\\\"Filtered Signal $y_k = \\\\dfrac{1}{5}\\\\sum\\\\limits_{i=k-2}^{k+2} x_i$\\\")\\n\\nplt.plot(k, y_6(k), \\\"bo\\\")\\nplt.xlabel(\\\"k\\\")\\nplt.ylabel(\\\"y\\\")\\nplt.show()\";\n",
       "                var nbb_cells = Jupyter.notebook.get_cells();\n",
       "                for (var i = 0; i < nbb_cells.length; ++i) {\n",
       "                    if (nbb_cells[i].input_prompt_number == nbb_cell_id) {\n",
       "                        if (nbb_cells[i].get_text() == nbb_unformatted_code) {\n",
       "                             nbb_cells[i].set_text(nbb_formatted_code);\n",
       "                        }\n",
       "                        break;\n",
       "                    }\n",
       "                }\n",
       "            }, 500);\n",
       "            "
      ],
      "text/plain": [
       "<IPython.core.display.Javascript object>"
      ]
     },
     "metadata": {},
     "output_type": "display_data"
    }
   ],
   "source": [
    "plt.title(r\"Filtered Signal $y_k = \\dfrac{1}{5}\\sum\\limits_{i=k-2}^{k+2} x_i$\")\n",
    "\n",
    "plt.plot(k, y_6(k), \"bo\")\n",
    "plt.xlabel(\"k\")\n",
    "plt.ylabel(\"y\")\n",
    "plt.show()"
   ]
  },
  {
   "cell_type": "markdown",
   "metadata": {},
   "source": [
    "The functions which are LTI are signals $y_1, y_4$ and $y_6$"
   ]
  },
  {
   "cell_type": "code",
   "execution_count": 68,
   "metadata": {},
   "outputs": [
    {
     "data": {
      "application/javascript": [
       "\n",
       "            setTimeout(function() {\n",
       "                var nbb_cell_id = 68;\n",
       "                var nbb_unformatted_code = \"h_1 = np.array([1, -1,0])\\nh_4 = np.array([0.5, 0, -0.5])\\nh_6 = np.array([0.2, 0.2, 0.2, 0.2, 0.2])\";\n",
       "                var nbb_formatted_code = \"h_1 = np.array([1, -1, 0])\\nh_4 = np.array([0.5, 0, -0.5])\\nh_6 = np.array([0.2, 0.2, 0.2, 0.2, 0.2])\";\n",
       "                var nbb_cells = Jupyter.notebook.get_cells();\n",
       "                for (var i = 0; i < nbb_cells.length; ++i) {\n",
       "                    if (nbb_cells[i].input_prompt_number == nbb_cell_id) {\n",
       "                        if (nbb_cells[i].get_text() == nbb_unformatted_code) {\n",
       "                             nbb_cells[i].set_text(nbb_formatted_code);\n",
       "                        }\n",
       "                        break;\n",
       "                    }\n",
       "                }\n",
       "            }, 500);\n",
       "            "
      ],
      "text/plain": [
       "<IPython.core.display.Javascript object>"
      ]
     },
     "metadata": {},
     "output_type": "display_data"
    }
   ],
   "source": [
    "h_1 = np.array([1, -1, 0])\n",
    "h_4 = np.array([0.5, 0, -0.5])\n",
    "h_6 = np.array([0.2, 0.2, 0.2, 0.2, 0.2])"
   ]
  },
  {
   "cell_type": "code",
   "execution_count": 69,
   "metadata": {},
   "outputs": [
    {
     "data": {
      "application/javascript": [
       "\n",
       "            setTimeout(function() {\n",
       "                var nbb_cell_id = 69;\n",
       "                var nbb_unformatted_code = \"y_1_c = np.convolve(h_1, x(k), \\\"same\\\")\";\n",
       "                var nbb_formatted_code = \"y_1_c = np.convolve(h_1, x(k), \\\"same\\\")\";\n",
       "                var nbb_cells = Jupyter.notebook.get_cells();\n",
       "                for (var i = 0; i < nbb_cells.length; ++i) {\n",
       "                    if (nbb_cells[i].input_prompt_number == nbb_cell_id) {\n",
       "                        if (nbb_cells[i].get_text() == nbb_unformatted_code) {\n",
       "                             nbb_cells[i].set_text(nbb_formatted_code);\n",
       "                        }\n",
       "                        break;\n",
       "                    }\n",
       "                }\n",
       "            }, 500);\n",
       "            "
      ],
      "text/plain": [
       "<IPython.core.display.Javascript object>"
      ]
     },
     "metadata": {},
     "output_type": "display_data"
    }
   ],
   "source": [
    "y_1_c = np.convolve(h_1, x(k), \"same\")"
   ]
  },
  {
   "cell_type": "code",
   "execution_count": 87,
   "metadata": {},
   "outputs": [
    {
     "data": {
      "image/png": "[encoded data removed]",
      "text/plain": [
       "<Figure size 1008x432 with 2 Axes>"
      ]
     },
     "metadata": {
      "needs_background": "light"
     },
     "output_type": "display_data"
    },
    {
     "data": {
      "application/javascript": [
       "\n",
       "            setTimeout(function() {\n",
       "                var nbb_cell_id = 87;\n",
       "                var nbb_unformatted_code = \"fig, axs = plt.subplots(1, 2, figsize=(14, 6))\\nplt.suptitle(r\\\"$y_k = x_{k+1}-x_k$\\\")\\naxs[0].plot(k, y_1(k), \\\"bo\\\")\\naxs[0].set_title(\\\"Original\\\")\\naxs[0].set_xlabel(\\\"k\\\")\\naxs[0].set_ylabel(\\\"y\\\")\\n\\naxs[1].plot(k, y_1_c, \\\"bo\\\")\\naxs[1].set_title(\\\"Using Convolution\\\")\\naxs[1].set_xlabel(\\\"k\\\")\\naxs[1].set_ylabel(\\\"y\\\")\\n\\nplt.show()\";\n",
       "                var nbb_formatted_code = \"fig, axs = plt.subplots(1, 2, figsize=(14, 6))\\nplt.suptitle(r\\\"$y_k = x_{k+1}-x_k$\\\")\\naxs[0].plot(k, y_1(k), \\\"bo\\\")\\naxs[0].set_title(\\\"Original\\\")\\naxs[0].set_xlabel(\\\"k\\\")\\naxs[0].set_ylabel(\\\"y\\\")\\n\\naxs[1].plot(k, y_1_c, \\\"bo\\\")\\naxs[1].set_title(\\\"Using Convolution\\\")\\naxs[1].set_xlabel(\\\"k\\\")\\naxs[1].set_ylabel(\\\"y\\\")\\n\\nplt.show()\";\n",
       "                var nbb_cells = Jupyter.notebook.get_cells();\n",
       "                for (var i = 0; i < nbb_cells.length; ++i) {\n",
       "                    if (nbb_cells[i].input_prompt_number == nbb_cell_id) {\n",
       "                        if (nbb_cells[i].get_text() == nbb_unformatted_code) {\n",
       "                             nbb_cells[i].set_text(nbb_formatted_code);\n",
       "                        }\n",
       "                        break;\n",
       "                    }\n",
       "                }\n",
       "            }, 500);\n",
       "            "
      ],
      "text/plain": [
       "<IPython.core.display.Javascript object>"
      ]
     },
     "metadata": {},
     "output_type": "display_data"
    }
   ],
   "source": [
    "fig, axs = plt.subplots(1, 2, figsize=(14, 6))\n",
    "plt.suptitle(r\"$y_k = x_{k+1}-x_k$\")\n",
    "axs[0].plot(k, y_1(k), \"bo\")\n",
    "axs[0].set_title(\"Original\")\n",
    "axs[0].set_xlabel(\"k\")\n",
    "axs[0].set_ylabel(\"y\")\n",
    "\n",
    "axs[1].plot(k, y_1_c, \"bo\")\n",
    "axs[1].set_title(\"Using Convolution\")\n",
    "axs[1].set_xlabel(\"k\")\n",
    "axs[1].set_ylabel(\"y\")\n",
    "\n",
    "plt.show()"
   ]
  },
  {
   "cell_type": "code",
   "execution_count": 88,
   "metadata": {},
   "outputs": [
    {
     "data": {
      "application/javascript": [
       "\n",
       "            setTimeout(function() {\n",
       "                var nbb_cell_id = 88;\n",
       "                var nbb_unformatted_code = \"y_4_c = np.convolve(h_4, x(k), \\\"same\\\")\";\n",
       "                var nbb_formatted_code = \"y_4_c = np.convolve(h_4, x(k), \\\"same\\\")\";\n",
       "                var nbb_cells = Jupyter.notebook.get_cells();\n",
       "                for (var i = 0; i < nbb_cells.length; ++i) {\n",
       "                    if (nbb_cells[i].input_prompt_number == nbb_cell_id) {\n",
       "                        if (nbb_cells[i].get_text() == nbb_unformatted_code) {\n",
       "                             nbb_cells[i].set_text(nbb_formatted_code);\n",
       "                        }\n",
       "                        break;\n",
       "                    }\n",
       "                }\n",
       "            }, 500);\n",
       "            "
      ],
      "text/plain": [
       "<IPython.core.display.Javascript object>"
      ]
     },
     "metadata": {},
     "output_type": "display_data"
    }
   ],
   "source": [
    "y_4_c = np.convolve(h_4, x(k), \"same\")"
   ]
  },
  {
   "cell_type": "code",
   "execution_count": 89,
   "metadata": {},
   "outputs": [
    {
     "data": {
      "image/png": "[encoded data removed]",
      "text/plain": [
       "<Figure size 1008x432 with 2 Axes>"
      ]
     },
     "metadata": {
      "needs_background": "light"
     },
     "output_type": "display_data"
    },
    {
     "data": {
      "application/javascript": [
       "\n",
       "            setTimeout(function() {\n",
       "                var nbb_cell_id = 89;\n",
       "                var nbb_unformatted_code = \"fig, axs = plt.subplots(1, 2, figsize=(14, 6))\\nplt.suptitle(r\\\"$y_k = x_{k+0.5}-x_{k-0.5}$\\\")\\naxs[0].plot(k, y_4(k), \\\"bo\\\")\\naxs[0].set_title(\\\"Original\\\")\\naxs[0].set_xlabel(\\\"k\\\")\\naxs[0].set_ylabel(\\\"y\\\")\\n\\naxs[1].plot(k, y_4_c, \\\"bo\\\")\\naxs[1].set_title(\\\"Using Convolution\\\")\\naxs[1].set_xlabel(\\\"k\\\")\\naxs[1].set_ylabel(\\\"y\\\")\\n\\nplt.show()\";\n",
       "                var nbb_formatted_code = \"fig, axs = plt.subplots(1, 2, figsize=(14, 6))\\nplt.suptitle(r\\\"$y_k = x_{k+0.5}-x_{k-0.5}$\\\")\\naxs[0].plot(k, y_4(k), \\\"bo\\\")\\naxs[0].set_title(\\\"Original\\\")\\naxs[0].set_xlabel(\\\"k\\\")\\naxs[0].set_ylabel(\\\"y\\\")\\n\\naxs[1].plot(k, y_4_c, \\\"bo\\\")\\naxs[1].set_title(\\\"Using Convolution\\\")\\naxs[1].set_xlabel(\\\"k\\\")\\naxs[1].set_ylabel(\\\"y\\\")\\n\\nplt.show()\";\n",
       "                var nbb_cells = Jupyter.notebook.get_cells();\n",
       "                for (var i = 0; i < nbb_cells.length; ++i) {\n",
       "                    if (nbb_cells[i].input_prompt_number == nbb_cell_id) {\n",
       "                        if (nbb_cells[i].get_text() == nbb_unformatted_code) {\n",
       "                             nbb_cells[i].set_text(nbb_formatted_code);\n",
       "                        }\n",
       "                        break;\n",
       "                    }\n",
       "                }\n",
       "            }, 500);\n",
       "            "
      ],
      "text/plain": [
       "<IPython.core.display.Javascript object>"
      ]
     },
     "metadata": {},
     "output_type": "display_data"
    }
   ],
   "source": [
    "fig, axs = plt.subplots(1, 2, figsize=(14, 6))\n",
    "plt.suptitle(r\"$y_k = x_{k+0.5}-x_{k-0.5}$\")\n",
    "axs[0].plot(k, y_4(k), \"bo\")\n",
    "axs[0].set_title(\"Original\")\n",
    "axs[0].set_xlabel(\"k\")\n",
    "axs[0].set_ylabel(\"y\")\n",
    "\n",
    "axs[1].plot(k, y_4_c, \"bo\")\n",
    "axs[1].set_title(\"Using Convolution\")\n",
    "axs[1].set_xlabel(\"k\")\n",
    "axs[1].set_ylabel(\"y\")\n",
    "\n",
    "plt.show()"
   ]
  },
  {
   "cell_type": "code",
   "execution_count": 90,
   "metadata": {},
   "outputs": [
    {
     "data": {
      "application/javascript": [
       "\n",
       "            setTimeout(function() {\n",
       "                var nbb_cell_id = 90;\n",
       "                var nbb_unformatted_code = \"y_6_c = np.convolve(h_6, x(k), \\\"same\\\")\";\n",
       "                var nbb_formatted_code = \"y_6_c = np.convolve(h_6, x(k), \\\"same\\\")\";\n",
       "                var nbb_cells = Jupyter.notebook.get_cells();\n",
       "                for (var i = 0; i < nbb_cells.length; ++i) {\n",
       "                    if (nbb_cells[i].input_prompt_number == nbb_cell_id) {\n",
       "                        if (nbb_cells[i].get_text() == nbb_unformatted_code) {\n",
       "                             nbb_cells[i].set_text(nbb_formatted_code);\n",
       "                        }\n",
       "                        break;\n",
       "                    }\n",
       "                }\n",
       "            }, 500);\n",
       "            "
      ],
      "text/plain": [
       "<IPython.core.display.Javascript object>"
      ]
     },
     "metadata": {},
     "output_type": "display_data"
    }
   ],
   "source": [
    "y_6_c = np.convolve(h_6, x(k), \"same\")"
   ]
  },
  {
   "cell_type": "code",
   "execution_count": 91,
   "metadata": {},
   "outputs": [
    {
     "data": {
      "image/png": "[encoded data removed]",
      "text/plain": [
       "<Figure size 1008x432 with 2 Axes>"
      ]
     },
     "metadata": {
      "needs_background": "light"
     },
     "output_type": "display_data"
    },
    {
     "data": {
      "application/javascript": [
       "\n",
       "            setTimeout(function() {\n",
       "                var nbb_cell_id = 91;\n",
       "                var nbb_unformatted_code = \"fig, axs = plt.subplots(1, 2, figsize=(14, 6))\\nplt.suptitle(r\\\"$y_k = x_{k+0.5}-x_{k-0.5}$\\\")\\naxs[0].plot(k, y_6(k), \\\"bo\\\")\\naxs[0].set_title(\\\"Original\\\")\\naxs[0].set_xlabel(\\\"k\\\")\\naxs[0].set_ylabel(\\\"y\\\")\\n\\naxs[1].plot(k, y_6_c, \\\"bo\\\")\\naxs[1].set_title(\\\"Using Convolution\\\")\\naxs[1].set_xlabel(\\\"k\\\")\\naxs[1].set_ylabel(\\\"y\\\")\\n\\nplt.show()\";\n",
       "                var nbb_formatted_code = \"fig, axs = plt.subplots(1, 2, figsize=(14, 6))\\nplt.suptitle(r\\\"$y_k = x_{k+0.5}-x_{k-0.5}$\\\")\\naxs[0].plot(k, y_6(k), \\\"bo\\\")\\naxs[0].set_title(\\\"Original\\\")\\naxs[0].set_xlabel(\\\"k\\\")\\naxs[0].set_ylabel(\\\"y\\\")\\n\\naxs[1].plot(k, y_6_c, \\\"bo\\\")\\naxs[1].set_title(\\\"Using Convolution\\\")\\naxs[1].set_xlabel(\\\"k\\\")\\naxs[1].set_ylabel(\\\"y\\\")\\n\\nplt.show()\";\n",
       "                var nbb_cells = Jupyter.notebook.get_cells();\n",
       "                for (var i = 0; i < nbb_cells.length; ++i) {\n",
       "                    if (nbb_cells[i].input_prompt_number == nbb_cell_id) {\n",
       "                        if (nbb_cells[i].get_text() == nbb_unformatted_code) {\n",
       "                             nbb_cells[i].set_text(nbb_formatted_code);\n",
       "                        }\n",
       "                        break;\n",
       "                    }\n",
       "                }\n",
       "            }, 500);\n",
       "            "
      ],
      "text/plain": [
       "<IPython.core.display.Javascript object>"
      ]
     },
     "metadata": {},
     "output_type": "display_data"
    }
   ],
   "source": [
    "fig, axs = plt.subplots(1, 2, figsize=(14, 6))\n",
    "plt.suptitle(r\"$y_k = x_{k+0.5}-x_{k-0.5}$\")\n",
    "axs[0].plot(k, y_6(k), \"bo\")\n",
    "axs[0].set_title(\"Original\")\n",
    "axs[0].set_xlabel(\"k\")\n",
    "axs[0].set_ylabel(\"y\")\n",
    "\n",
    "axs[1].plot(k, y_6_c, \"bo\")\n",
    "axs[1].set_title(\"Using Convolution\")\n",
    "axs[1].set_xlabel(\"k\")\n",
    "axs[1].set_ylabel(\"y\")\n",
    "\n",
    "plt.show()"
   ]
  },
  {
   "cell_type": "code",
   "execution_count": 107,
   "metadata": {},
   "outputs": [
    {
     "data": {
      "text/plain": [
       "[<matplotlib.lines.Line2D at 0x7f3709dd2090>]"
      ]
     },
     "execution_count": 107,
     "metadata": {},
     "output_type": "execute_result"
    },
    {
     "data": {
      "image/png": "[encoded data removed]",
      "text/plain": [
       "<Figure size 648x432 with 1 Axes>"
      ]
     },
     "metadata": {
      "needs_background": "light"
     },
     "output_type": "display_data"
    },
    {
     "data": {
      "application/javascript": [
       "\n",
       "            setTimeout(function() {\n",
       "                var nbb_cell_id = 107;\n",
       "                var nbb_unformatted_code = \"plt.plot(\\n    k,\\n    np.fft.ifft(\\n        np.fft.fft(np.concatenate([h_1, np.zeros(len(k) - len(h_1))]))\\n        * np.fft.fft(x(k))\\n    ),\\n    \\\"bo\\\",\\n)\";\n",
       "                var nbb_formatted_code = \"plt.plot(\\n    k,\\n    np.fft.ifft(\\n        np.fft.fft(np.concatenate([h_1, np.zeros(len(k) - len(h_1))]))\\n        * np.fft.fft(x(k))\\n    ),\\n    \\\"bo\\\",\\n)\";\n",
       "                var nbb_cells = Jupyter.notebook.get_cells();\n",
       "                for (var i = 0; i < nbb_cells.length; ++i) {\n",
       "                    if (nbb_cells[i].input_prompt_number == nbb_cell_id) {\n",
       "                        if (nbb_cells[i].get_text() == nbb_unformatted_code) {\n",
       "                             nbb_cells[i].set_text(nbb_formatted_code);\n",
       "                        }\n",
       "                        break;\n",
       "                    }\n",
       "                }\n",
       "            }, 500);\n",
       "            "
      ],
      "text/plain": [
       "<IPython.core.display.Javascript object>"
      ]
     },
     "metadata": {},
     "output_type": "display_data"
    }
   ],
   "source": [
    "plt.plot(\n",
    "    k,\n",
    "    np.fft.ifft(\n",
    "        np.fft.fft(np.concatenate([h_1, np.zeros(len(k) - len(h_1))]))\n",
    "        * np.fft.fft(x(k))\n",
    "    ),\n",
    "    \"bo\",\n",
    ")"
   ]
  },
  {
   "cell_type": "code",
   "execution_count": null,
   "metadata": {},
   "outputs": [],
   "source": []
  }
 ],
 "metadata": {
  "kernelspec": {
   "display_name": "Python 3.7.4 64-bit ('ee4708')",
   "language": "python",
   "name": "python37464bitee47082b8c44f9ef114bac9925a63aa3f18cbc"
  },
  "language_info": {
   "codemirror_mode": {
    "name": "ipython",
    "version": 3
   },
   "file_extension": ".py",
   "mimetype": "text/x-python",
   "name": "python",
   "nbconvert_exporter": "python",
   "pygments_lexer": "ipython3",
   "version": "3.7.4"
  }
 },
 "nbformat": 4,
 "nbformat_minor": 4
}
